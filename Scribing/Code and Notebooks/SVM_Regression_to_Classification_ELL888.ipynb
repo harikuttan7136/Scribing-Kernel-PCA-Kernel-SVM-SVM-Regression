{
  "nbformat": 4,
  "nbformat_minor": 0,
  "metadata": {
    "colab": {
      "name": "SVM Regression to Classification ELL888.ipynb",
      "provenance": [],
      "collapsed_sections": []
    },
    "kernelspec": {
      "name": "python3",
      "display_name": "Python 3"
    },
    "language_info": {
      "name": "python"
    }
  },
  "cells": [
    {
      "cell_type": "code",
      "execution_count": 2,
      "metadata": {
        "id": "WmGEzJTTUhUG"
      },
      "outputs": [],
      "source": [
        "import numpy as np\n",
        "import pandas as pd\n",
        "from sklearn.metrics import accuracy_score\n",
        "import matplotlib.pyplot as plt\n",
        "import random\n",
        "import sys\n",
        "import math\n",
        "from sklearn.preprocessing import StandardScaler\n",
        "from numpy.linalg import eig\n",
        "import sys\n",
        "from random import seed\n",
        "import pandas as pd\n",
        "import cvxpy as cp\n",
        "import random\n",
        "\n",
        "np.random.seed(1)\n",
        "seed(1)\n",
        "\n",
        "import torch\n",
        "import torch.nn as nn\n",
        "import torch.nn.functional as F\n",
        "from torch.optim import SGD\n",
        "import matplotlib.pyplot as plt\n",
        "from sklearn.decomposition import PCA\n",
        "from sklearn.svm import SVC\n",
        "from sklearn.model_selection import KFold\n",
        "import torchvision.datasets as datasets\n",
        "from torchvision import transforms\n",
        "from torch.utils.data import TensorDataset\n",
        "from torch.utils.data import DataLoader"
      ]
    },
    {
      "cell_type": "code",
      "source": [
        "#creating a random dataset with the equation of a line\n",
        "def generate_data_straightline(dim_x=1,start=-10,end=10,isNoise=True,isConstant=True,n = 10):\n",
        "    print(\"GENERATING DATA\")\n",
        "    X = np.random.uniform(start,end,(n, dim_x))\n",
        "    W = np.random.randint(1,10,(dim_x, ))\n",
        "    noise = np.random.uniform(-0.5, 0.0, n)\n",
        "    if(isNoise):\n",
        "      noise = np.random.uniform(-0.5, 0.0, (n, dim_x))\n",
        "      X=X+noise\n",
        "    b=0\n",
        "    if(isConstant):\n",
        "      b=np.random.randint(1,500)\n",
        "    y=np.dot(X,W)\n",
        "    print(\"X = \", X.shape, \" y = \", y.shape)\n",
        "    print(\"Equation of line is \")\n",
        "    print(W)\n",
        "    print(\"constant is \"+str(b))\n",
        "    return X, y"
      ],
      "metadata": {
        "id": "OT8yB9H1U8Zz"
      },
      "execution_count": 3,
      "outputs": []
    },
    {
      "cell_type": "code",
      "source": [
        "# converting regression to classification problem\n",
        "def getClassification(X,Y,eph=1):\n",
        "  N=X.shape[0]\n",
        "  Xpos=np.append(X,(Y+eph).reshape(-1,1),axis=1)\n",
        "  Xneg=np.append(X,(Y-eph).reshape(-1,1),axis=1)\n",
        "  Ypos=np.ones(N)\n",
        "  Yneg=np.ones(N)*-1\n",
        "  return np.append(Xpos,Xneg,axis=0),np.append(Ypos,Yneg,axis=0)\n"
      ],
      "metadata": {
        "id": "Et9CoOsuV2jl"
      },
      "execution_count": 4,
      "outputs": []
    },
    {
      "cell_type": "code",
      "source": [
        "# primal solver for SVM\n",
        "def inner_prod_cp(w,x):\n",
        "    return cp.sum(cp.multiply(w,x))\n",
        "def SVM_OPT(X,Y,C=1000000,restrictions_on_weight=False):\n",
        "  M=X.shape[0]\n",
        "  d=X.shape[1]\n",
        "  w = cp.Variable(d)\n",
        "  qi = cp.Variable(M)\n",
        "  obj=cp.Minimize((1/2)*cp.norm2(w) + cp.sum(qi)*C)\n",
        "  constraints=[]\n",
        "  for i in range(M):\n",
        "    constraints+=[cp.multiply(Y[i],(inner_prod_cp(w,X[i])))+qi[i]>=1,qi[i]>=0]\n",
        "  max_X=np.max(X,axis=0)\n",
        "  min_X=np.min(X,axis=0)\n",
        "  if restrictions_on_weight:\n",
        "    for i in range(d):\n",
        "      constraints+=[w[i]<max_X[i]]\n",
        "      constraints+=[w[i]>min_X[i]]\n",
        "  problem = cp.Problem(obj,constraints)\n",
        "  problem.solve()\n",
        "  return w.value"
      ],
      "metadata": {
        "id": "-h3srnQ9XhoR"
      },
      "execution_count": 5,
      "outputs": []
    },
    {
      "cell_type": "code",
      "source": [
        ""
      ],
      "metadata": {
        "id": "7HcKZRILXhsR"
      },
      "execution_count": 5,
      "outputs": []
    },
    {
      "cell_type": "code",
      "source": [
        ""
      ],
      "metadata": {
        "id": "jWwM6Cj3Xhwq"
      },
      "execution_count": 5,
      "outputs": []
    },
    {
      "cell_type": "code",
      "source": [
        "#generating data \n",
        "#equation of the line will be printed\n",
        "X,Y=generate_data_straightline(dim_x=2,isNoise=False,isConstant=False,n=100)"
      ],
      "metadata": {
        "colab": {
          "base_uri": "https://localhost:8080/"
        },
        "id": "tHk62Z_-U9z0",
        "outputId": "83dfc331-3760-4222-fa27-7aa711dfd07a"
      },
      "execution_count": 6,
      "outputs": [
        {
          "output_type": "stream",
          "name": "stdout",
          "text": [
            "GENERATING DATA\n",
            "X =  (100, 2)  y =  (100,)\n",
            "Equation of line is \n",
            "[6 5]\n",
            "constant is 0\n"
          ]
        }
      ]
    },
    {
      "cell_type": "code",
      "source": [
        ""
      ],
      "metadata": {
        "id": "OCAgox-rVnGz"
      },
      "execution_count": 6,
      "outputs": []
    },
    {
      "cell_type": "code",
      "source": [
        "#converting to classification\n",
        "X_class,Y_class=getClassification(X,Y)"
      ],
      "metadata": {
        "id": "7Hb2AK8qV2mk"
      },
      "execution_count": 7,
      "outputs": []
    },
    {
      "cell_type": "code",
      "source": [
        "X_class.shape"
      ],
      "metadata": {
        "colab": {
          "base_uri": "https://localhost:8080/"
        },
        "id": "rbV0TRrOV2p-",
        "outputId": "df8cb6e9-72ff-4c56-a148-af9cb07157c5"
      },
      "execution_count": 8,
      "outputs": [
        {
          "output_type": "execute_result",
          "data": {
            "text/plain": [
              "(200, 3)"
            ]
          },
          "metadata": {},
          "execution_count": 8
        }
      ]
    },
    {
      "cell_type": "code",
      "source": [
        "Y_class"
      ],
      "metadata": {
        "colab": {
          "base_uri": "https://localhost:8080/"
        },
        "id": "0OEVn9v8u-wc",
        "outputId": "b46044f0-ded9-4945-8467-c250f669cfab"
      },
      "execution_count": 9,
      "outputs": [
        {
          "output_type": "execute_result",
          "data": {
            "text/plain": [
              "array([ 1.,  1.,  1.,  1.,  1.,  1.,  1.,  1.,  1.,  1.,  1.,  1.,  1.,\n",
              "        1.,  1.,  1.,  1.,  1.,  1.,  1.,  1.,  1.,  1.,  1.,  1.,  1.,\n",
              "        1.,  1.,  1.,  1.,  1.,  1.,  1.,  1.,  1.,  1.,  1.,  1.,  1.,\n",
              "        1.,  1.,  1.,  1.,  1.,  1.,  1.,  1.,  1.,  1.,  1.,  1.,  1.,\n",
              "        1.,  1.,  1.,  1.,  1.,  1.,  1.,  1.,  1.,  1.,  1.,  1.,  1.,\n",
              "        1.,  1.,  1.,  1.,  1.,  1.,  1.,  1.,  1.,  1.,  1.,  1.,  1.,\n",
              "        1.,  1.,  1.,  1.,  1.,  1.,  1.,  1.,  1.,  1.,  1.,  1.,  1.,\n",
              "        1.,  1.,  1.,  1.,  1.,  1.,  1.,  1.,  1., -1., -1., -1., -1.,\n",
              "       -1., -1., -1., -1., -1., -1., -1., -1., -1., -1., -1., -1., -1.,\n",
              "       -1., -1., -1., -1., -1., -1., -1., -1., -1., -1., -1., -1., -1.,\n",
              "       -1., -1., -1., -1., -1., -1., -1., -1., -1., -1., -1., -1., -1.,\n",
              "       -1., -1., -1., -1., -1., -1., -1., -1., -1., -1., -1., -1., -1.,\n",
              "       -1., -1., -1., -1., -1., -1., -1., -1., -1., -1., -1., -1., -1.,\n",
              "       -1., -1., -1., -1., -1., -1., -1., -1., -1., -1., -1., -1., -1.,\n",
              "       -1., -1., -1., -1., -1., -1., -1., -1., -1., -1., -1., -1., -1.,\n",
              "       -1., -1., -1., -1., -1.])"
            ]
          },
          "metadata": {},
          "execution_count": 9
        }
      ]
    },
    {
      "cell_type": "code",
      "source": [
        "  # plotting the data\n",
        "  X_mn_pca=X_class\n",
        "  Y_SVM=Y_class\n",
        "  plt.scatter(X_mn_pca[Y_SVM.reshape(-1) == 1, 0], X_mn_pca[Y_SVM.reshape(-1) == 1, 2], marker='o', facecolors='r', edgecolors='r')\n",
        "  plt.scatter(X_mn_pca[Y_SVM.reshape(-1) == -1, 0], X_mn_pca[Y_SVM.reshape(-1) == -1, 2], marker='+', facecolors='b', edgecolors='b')"
      ],
      "metadata": {
        "colab": {
          "base_uri": "https://localhost:8080/",
          "height": 283
        },
        "id": "Y0KP-PqrvLOH",
        "outputId": "8e58b6fd-6b57-4176-bac6-4a516788512d"
      },
      "execution_count": 10,
      "outputs": [
        {
          "output_type": "execute_result",
          "data": {
            "text/plain": [
              "<matplotlib.collections.PathCollection at 0x7f873624c910>"
            ]
          },
          "metadata": {},
          "execution_count": 10
        },
        {
          "output_type": "display_data",
          "data": {
            "text/plain": [
              "<Figure size 432x288 with 1 Axes>"
            ],
            "image/png": "[encoded data removed]"
          },
          "metadata": {
            "needs_background": "light"
          }
        }
      ]
    },
    {
      "cell_type": "code",
      "source": [
        "  X_mn_pca=X_class\n",
        "  Y_SVM=Y_class\n",
        "  pca = PCA(n_components=2)\n",
        "  X_mn_pca = pca.fit_transform(X_mn_pca)\n",
        "  plt.scatter(X_mn_pca[Y_SVM.reshape(-1) == 1, 0], X_mn_pca[Y_SVM.reshape(-1) == 1, 1], marker='o', facecolors='r', edgecolors='r')\n",
        "  plt.scatter(X_mn_pca[Y_SVM.reshape(-1) == -1, 0], X_mn_pca[Y_SVM.reshape(-1) == -1, 1], marker='+', facecolors='b', edgecolors='b')"
      ],
      "metadata": {
        "colab": {
          "base_uri": "https://localhost:8080/",
          "height": 282
        },
        "id": "1mr9R2H4usjo",
        "outputId": "24427949-4cb5-4363-dbb9-75d3a56f2405"
      },
      "execution_count": 9,
      "outputs": [
        {
          "output_type": "execute_result",
          "data": {
            "text/plain": [
              "<matplotlib.collections.PathCollection at 0x7f1b1c112290>"
            ]
          },
          "metadata": {},
          "execution_count": 9
        },
        {
          "output_type": "display_data",
          "data": {
            "text/plain": [
              "<Figure size 432x288 with 1 Axes>"
            ],
            "image/png": "[encoded data removed]"
          },
          "metadata": {
            "needs_background": "light"
          }
        }
      ]
    },
    {
      "cell_type": "code",
      "source": [
        ""
      ],
      "metadata": {
        "id": "IVdKKlgOutMn"
      },
      "execution_count": null,
      "outputs": []
    },
    {
      "cell_type": "code",
      "source": [
        "#Running classification on converted Classification problem\n",
        "append_one=True\n",
        "if append_one:\n",
        "  X_class=np.append(np.ones(X_class.shape[0]).reshape(-1,1),X_class,axis=1)"
      ],
      "metadata": {
        "id": "oC7NYNJwXPCY"
      },
      "execution_count": 11,
      "outputs": []
    },
    {
      "cell_type": "code",
      "source": [
        "W=SVM_OPT(X_class,Y_class)"
      ],
      "metadata": {
        "id": "IzhI1_JnYqM0"
      },
      "execution_count": 12,
      "outputs": []
    },
    {
      "cell_type": "code",
      "source": [
        "#weights printed middle values are the equation of the line\n",
        "#W[0] is b\n",
        "#W[-1] is weight corresponding to Y value should be 1 for a good fit\n",
        "W"
      ],
      "metadata": {
        "colab": {
          "base_uri": "https://localhost:8080/"
        },
        "id": "DlckmqdSYqSZ",
        "outputId": "76baab89-74f2-4544-e977-aa142bae545c"
      },
      "execution_count": 13,
      "outputs": [
        {
          "output_type": "execute_result",
          "data": {
            "text/plain": [
              "array([ 5.31353903e-14, -6.00000000e+00, -5.00000000e+00,  1.00000000e+00])"
            ]
          },
          "metadata": {},
          "execution_count": 13
        }
      ]
    },
    {
      "cell_type": "code",
      "source": [
        ""
      ],
      "metadata": {
        "id": "YdVgSI96Zt8O"
      },
      "execution_count": null,
      "outputs": []
    }
  ]
}