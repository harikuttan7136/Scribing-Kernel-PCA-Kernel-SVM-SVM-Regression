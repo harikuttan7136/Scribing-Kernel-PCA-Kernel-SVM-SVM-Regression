{
  "nbformat": 4,
  "nbformat_minor": 0,
  "metadata": {
    "colab": {
      "name": "DUAL and Primal SVM ELL888.ipynb",
      "provenance": [],
      "collapsed_sections": []
    },
    "kernelspec": {
      "name": "python3",
      "display_name": "Python 3"
    },
    "language_info": {
      "name": "python"
    }
  },
  "cells": [
    {
      "cell_type": "code",
      "execution_count": 1,
      "metadata": {
        "id": "yN7y5r3VfIsS"
      },
      "outputs": [],
      "source": [
        "import numpy as np\n",
        "import pandas as pd\n",
        "from sklearn.metrics import accuracy_score\n",
        "import matplotlib.pyplot as plt\n",
        "import random\n",
        "import sys\n",
        "import math\n",
        "from sklearn.preprocessing import StandardScaler\n",
        "from numpy.linalg import eig\n",
        "import sys\n",
        "from random import seed\n",
        "import pandas as pd\n",
        "import cvxpy as cp\n",
        "import random\n",
        "import numpy.linalg as la\n",
        "\n",
        "np.random.seed(1)\n",
        "seed(1)\n",
        "\n",
        "import torch\n",
        "import torch.nn as nn\n",
        "import torch.nn.functional as F\n",
        "from torch.optim import SGD\n",
        "import matplotlib.pyplot as plt\n",
        "from sklearn.decomposition import PCA\n",
        "from sklearn.svm import SVC\n",
        "from sklearn.model_selection import KFold\n",
        "import torchvision.datasets as datasets\n",
        "from torchvision import transforms\n",
        "from torch.utils.data import TensorDataset\n",
        "from torch.utils.data import DataLoader"
      ]
    },
    {
      "cell_type": "code",
      "source": [
        "d = 2   \n",
        "m = 10\n",
        "n = 10  \n",
        "\n",
        "x_center = [1,1]  \n",
        "y_center = [3,1]\n",
        "np.random.seed(11)  \n",
        "\n",
        "orientation_x = np.random.rand(2,2)\n",
        "orientation_y = np.random.rand(2,2)\n",
        "\n",
        "rx = np.clip(np.random.randn(m,d),-2,2)\n",
        "ry = np.clip(np.random.randn(n,d),-2,2)\n",
        "x = x_center + np.dot(rx,orientation_x)\n",
        "y = y_center + np.dot(ry,orientation_y)\n",
        "\n",
        "plt.scatter(x[:,0],x[:,1],color='blue')\n",
        "plt.scatter(y[:,0],y[:,1],color='red')\n"
      ],
      "metadata": {
        "colab": {
          "base_uri": "https://localhost:8080/",
          "height": 286
        },
        "id": "UVTAFAQci8hQ",
        "outputId": "6f6d0f40-1a85-4952-eef3-81ceb48c67de"
      },
      "execution_count": 59,
      "outputs": [
        {
          "output_type": "execute_result",
          "data": {
            "text/plain": [
              "<matplotlib.collections.PathCollection at 0x7fefb3a99890>"
            ]
          },
          "metadata": {},
          "execution_count": 59
        },
        {
          "output_type": "display_data",
          "data": {
            "text/plain": [
              "<Figure size 432x288 with 1 Axes>"
            ],
            "image/png": "[encoded data removed]"
          },
          "metadata": {
            "needs_background": "light"
          }
        }
      ]
    },
    {
      "cell_type": "code",
      "source": [
        "X=np.array([[ 1.51059262,  1.40067875],\n",
        "       [ 2.96670337,  2.55561409],\n",
        "       [ 0.39544469,  0.49725317],\n",
        "       [-0.21266631,  0.03023535],\n",
        "       [-0.16928619,  0.38868223],\n",
        "       [ 1.06851304,  1.07122213],\n",
        "       [-0.05185514,  0.34320484],\n",
        "       [-0.03671476,  0.23965344],\n",
        "       [-0.30072546,  0.27130416],\n",
        "       [ 0.97050387,  0.87136087],\n",
        "       [ 2.17435609,  0.35362689],\n",
        "       [ 4.55557849,  1.61682175],\n",
        "       [ 3.57435727,  1.44706702],\n",
        "       [ 3.55889914,  1.08129283],\n",
        "       [ 2.43282845,  1.32955348],\n",
        "       [ 3.72178634,  1.30848346],\n",
        "       [ 3.14672832,  0.55361707],\n",
        "       [ 3.91173875,  1.89393317],\n",
        "       [ 4.42712701,  1.11754341],\n",
        "       [ 2.99676087,  1.66429866]])\n",
        "Y=np.array([ 1.,  1.,  1.,  1.,  1.,  1.,  1.,  1.,  1.,  1., -1., -1., -1.,\n",
        "       -1., -1., -1., -1., -1., -1., -1.])\n",
        "\n",
        "plt.scatter(X[:,0],X[:,1],color='blue')\n",
        "#plt.scatter(y[:,0],y[:,1],color='red')\n"
      ],
      "metadata": {
        "colab": {
          "base_uri": "https://localhost:8080/",
          "height": 282
        },
        "id": "K30k7a93qWh3",
        "outputId": "4b37a5d7-6f0f-4bd0-fa0d-daf6133f9643"
      },
      "execution_count": 100,
      "outputs": [
        {
          "output_type": "execute_result",
          "data": {
            "text/plain": [
              "<matplotlib.collections.PathCollection at 0x7fefb176b450>"
            ]
          },
          "metadata": {},
          "execution_count": 100
        },
        {
          "output_type": "display_data",
          "data": {
            "text/plain": [
              "<Figure size 432x288 with 1 Axes>"
            ],
            "image/png": "[encoded data removed]"
          },
          "metadata": {
            "needs_background": "light"
          }
        }
      ]
    },
    {
      "cell_type": "code",
      "source": [
        "X=np.append(x,y,axis=0)\n",
        "Y=np.append(np.ones(n),np.ones(m)*-1,0)\n",
        "kernel=False"
      ],
      "metadata": {
        "id": "N6quyrODjyVa"
      },
      "execution_count": 60,
      "outputs": []
    },
    {
      "cell_type": "code",
      "source": [
        "X"
      ],
      "metadata": {
        "colab": {
          "base_uri": "https://localhost:8080/"
        },
        "id": "SDuYY-msAoeF",
        "outputId": "c944b223-8614-476e-f74b-5bbd40d90109"
      },
      "execution_count": 61,
      "outputs": [
        {
          "output_type": "execute_result",
          "data": {
            "text/plain": [
              "array([[1.04936235, 1.21819511],\n",
              "       [0.58229564, 0.23570831],\n",
              "       [0.61986928, 0.63786492],\n",
              "       [1.38428343, 1.42025898],\n",
              "       [0.2460875 , 0.16302853],\n",
              "       [1.86222912, 2.15585575],\n",
              "       [0.67781296, 0.50394116],\n",
              "       [1.05410719, 0.79691504],\n",
              "       [1.84838981, 2.13710879],\n",
              "       [1.14762772, 1.0655487 ],\n",
              "       [3.29949043, 1.04229136],\n",
              "       [2.917829  , 0.63381959],\n",
              "       [2.90790295, 0.66368678],\n",
              "       [2.91707297, 0.72435698],\n",
              "       [3.0382025 , 1.07422392],\n",
              "       [3.14245468, 1.82752573],\n",
              "       [2.36656183, 0.8805587 ],\n",
              "       [2.88455612, 0.28422165],\n",
              "       [2.92872236, 0.96106219],\n",
              "       [3.43502336, 1.00081132]])"
            ]
          },
          "metadata": {},
          "execution_count": 61
        }
      ]
    },
    {
      "cell_type": "code",
      "source": [
        "Y"
      ],
      "metadata": {
        "colab": {
          "base_uri": "https://localhost:8080/"
        },
        "id": "o_TRUQ-cApht",
        "outputId": "16a44623-9e45-436c-f7aa-5a0ecc49cc40"
      },
      "execution_count": 62,
      "outputs": [
        {
          "output_type": "execute_result",
          "data": {
            "text/plain": [
              "array([ 1.,  1.,  1.,  1.,  1.,  1.,  1.,  1.,  1.,  1., -1., -1., -1.,\n",
              "       -1., -1., -1., -1., -1., -1., -1.])"
            ]
          },
          "metadata": {},
          "execution_count": 62
        }
      ]
    },
    {
      "cell_type": "code",
      "source": [
        "M=X.shape[0]\n",
        "d=X.shape[1]"
      ],
      "metadata": {
        "id": "g20lqSTgkrn4"
      },
      "execution_count": 63,
      "outputs": []
    },
    {
      "cell_type": "code",
      "source": [
        "Y.shape"
      ],
      "metadata": {
        "colab": {
          "base_uri": "https://localhost:8080/"
        },
        "id": "XYeYilbLkso7",
        "outputId": "a221be79-74c3-4253-afd0-de0e39400af3"
      },
      "execution_count": 64,
      "outputs": [
        {
          "output_type": "execute_result",
          "data": {
            "text/plain": [
              "(20,)"
            ]
          },
          "metadata": {},
          "execution_count": 64
        }
      ]
    },
    {
      "cell_type": "code",
      "source": [
        "def gaussian(x,y,sigma=1):\n",
        "  exponent = -np.sqrt(la.norm(x-y) ** 2 / (2 * sigma ** 2))\n",
        "  return np.exp(exponent)\n",
        "def polynomial(x,y,offset=1):\n",
        "  d=x.shape[1]\n",
        "  return (offset + np.dot(x, y)) ** d"
      ],
      "metadata": {
        "id": "X11rbNiVlGrA"
      },
      "execution_count": 65,
      "outputs": []
    },
    {
      "cell_type": "code",
      "source": [
        "#dual solver for SVM with Kernel and no kernel\n",
        "#pass kernel=True to use Kernel\n",
        "def SVM_OPT_DUAL(X,Y,C=100000,kernel=False):\n",
        "  M=X.shape[0]\n",
        "  d=X.shape[1]\n",
        "  alpha=cp.Variable((M,1))\n",
        "\n",
        "  K=np.dot(X,X.T)\n",
        "  Yij=np.dot(Y.reshape(1,-1).T,Y.reshape(1,-1))\n",
        "  Q=np.multiply(K,Yij)\n",
        "\n",
        "  obj=cp.Minimize(1/2* cp.quad_form(alpha,Q)-cp.sum(alpha))\n",
        "  constraints=[]\n",
        "  constraints+=[cp.sum(cp.multiply(alpha,Y.reshape(-1,1)))==0]\n",
        "  for i in range(M):\n",
        "    constraints+=[alpha[i]>=0]\n",
        "    constraints+=[alpha[i]<=C]\n",
        "  problem = cp.Problem(obj,constraints)\n",
        "  problem.solve()\n",
        "  return alpha.value"
      ],
      "metadata": {
        "id": "DYqid7ncktQ1"
      },
      "execution_count": 66,
      "outputs": []
    },
    {
      "cell_type": "code",
      "source": [
        "# primal solver for SVM\n",
        "def inner_prod_cp(w,x):\n",
        "    return cp.sum(cp.multiply(w,x))\n",
        "def SVM_OPT(X,Y,C=100000,restrictions_on_weight=False):\n",
        "  M=X.shape[0]\n",
        "  d=X.shape[1]\n",
        "  w = cp.Variable(d)\n",
        "  qi = cp.Variable(M)\n",
        "  obj=cp.Minimize((1/2)*cp.norm2(w) + cp.sum(qi)*C)\n",
        "  constraints=[]\n",
        "  for i in range(M):\n",
        "    constraints+=[cp.multiply(Y[i],(inner_prod_cp(w,X[i])))+qi[i]>=1,qi[i]>=0]\n",
        "  max_X=np.max(X,axis=0)\n",
        "  min_X=np.min(X,axis=0)\n",
        "  if restrictions_on_weight:\n",
        "    for i in range(d):\n",
        "      constraints+=[w[i]<max_X[i]]\n",
        "      constraints+=[w[i]>min_X[i]]\n",
        "  problem = cp.Problem(obj,constraints)\n",
        "  problem.solve()\n",
        "  return w.value"
      ],
      "metadata": {
        "id": "kXAxff1CyU2l"
      },
      "execution_count": 67,
      "outputs": []
    },
    {
      "cell_type": "code",
      "source": [
        "alpha=SVM_OPT_DUAL(X,Y,kernel=kernel)"
      ],
      "metadata": {
        "id": "PNEx9dfqtdRc"
      },
      "execution_count": 88,
      "outputs": []
    },
    {
      "cell_type": "code",
      "source": [
        "alpha"
      ],
      "metadata": {
        "colab": {
          "base_uri": "https://localhost:8080/"
        },
        "id": "WxkQSavAy1OQ",
        "outputId": "d0bf18f3-973b-463a-e89e-1e10bb7f3baf"
      },
      "execution_count": 89,
      "outputs": [
        {
          "output_type": "execute_result",
          "data": {
            "text/plain": [
              "array([[-8.19685890e-21],\n",
              "       [ 3.07929569e+00],\n",
              "       [-5.63330343e-21],\n",
              "       [ 7.64085068e-22],\n",
              "       [-4.07801236e-20],\n",
              "       [-8.76092315e-21],\n",
              "       [-2.58927084e-20],\n",
              "       [-1.13689860e-20],\n",
              "       [-3.55547543e-20],\n",
              "       [ 2.61200665e+00],\n",
              "       [-2.88571608e-20],\n",
              "       [-7.98847946e-21],\n",
              "       [-8.72016749e-21],\n",
              "       [-1.25284137e-20],\n",
              "       [ 5.69130233e+00],\n",
              "       [-9.40175184e-21],\n",
              "       [-1.90252684e-20],\n",
              "       [-4.22663527e-21],\n",
              "       [-1.09027236e-20],\n",
              "       [-4.58642362e-21]])"
            ]
          },
          "metadata": {},
          "execution_count": 89
        }
      ]
    },
    {
      "cell_type": "code",
      "source": [
        ""
      ],
      "metadata": {
        "id": "OTwQW01d_Oaz"
      },
      "execution_count": 89,
      "outputs": []
    },
    {
      "cell_type": "code",
      "source": [
        "def findWandbNoKernel(X,Y,alpha):\n",
        "  M=X.shape[0]\n",
        "  W=np.zeros((1,d))\n",
        "  b=0\n",
        "  for i in range(M):\n",
        "    if abs(alpha[i]>0):\n",
        "      W+=alpha[i]*Y[i]*X[i]\n",
        "  idx=np.argmax(alpha)\n",
        "  b=Y[idx]-np.dot(W,X[idx].T)\n",
        "  return W,b"
      ],
      "metadata": {
        "id": "Pue2SUAryHni"
      },
      "execution_count": 90,
      "outputs": []
    },
    {
      "cell_type": "code",
      "source": [
        "#finding W and b without kernel\n",
        "W1,b1=findWandbNoKernel(X,Y,alpha)"
      ],
      "metadata": {
        "id": "1-4Vq6Qn9IX3"
      },
      "execution_count": 91,
      "outputs": []
    },
    {
      "cell_type": "code",
      "source": [
        "W1"
      ],
      "metadata": {
        "colab": {
          "base_uri": "https://localhost:8080/"
        },
        "id": "Imo1xf-n9O4A",
        "outputId": "f992abea-cca0-46b8-cda3-90784554c556"
      },
      "execution_count": 92,
      "outputs": [
        {
          "output_type": "execute_result",
          "data": {
            "text/plain": [
              "array([[-2.17564279,  2.578601  ]])"
            ]
          },
          "metadata": {},
          "execution_count": 92
        }
      ]
    },
    {
      "cell_type": "code",
      "source": [
        "b1"
      ],
      "metadata": {
        "colab": {
          "base_uri": "https://localhost:8080/"
        },
        "id": "wpMPmeE29PqP",
        "outputId": "375f1696-24e6-4df8-820b-657bf1fa7950"
      },
      "execution_count": 93,
      "outputs": [
        {
          "output_type": "execute_result",
          "data": {
            "text/plain": [
              "array([0.86457773])"
            ]
          },
          "metadata": {},
          "execution_count": 93
        }
      ]
    },
    {
      "cell_type": "code",
      "source": [
        ""
      ],
      "metadata": {
        "id": "LJMbcodo_ovn"
      },
      "execution_count": 93,
      "outputs": []
    },
    {
      "cell_type": "code",
      "source": [
        ""
      ],
      "metadata": {
        "id": "bKMD_iBq_1YD"
      },
      "execution_count": 93,
      "outputs": []
    },
    {
      "cell_type": "code",
      "source": [
        ""
      ],
      "metadata": {
        "id": "64MHluT8_1aL"
      },
      "execution_count": 93,
      "outputs": []
    },
    {
      "cell_type": "code",
      "source": [
        ""
      ],
      "metadata": {
        "id": "Y4Rkhm6d_1dk"
      },
      "execution_count": 93,
      "outputs": []
    },
    {
      "cell_type": "code",
      "source": [
        "#Finding w and b using primal\n",
        "append_one=True\n",
        "if append_one:\n",
        "  X_class=np.append(np.ones(X.shape[0]).reshape(-1,1),X,axis=1)\n",
        "W=SVM_OPT(X_class,Y)"
      ],
      "metadata": {
        "id": "wrRGdGs_9QkK"
      },
      "execution_count": 94,
      "outputs": []
    },
    {
      "cell_type": "code",
      "source": [
        "W"
      ],
      "metadata": {
        "colab": {
          "base_uri": "https://localhost:8080/"
        },
        "id": "UelE6zkQ9dQn",
        "outputId": "879919fa-3890-44ba-f5f0-811398fca02f"
      },
      "execution_count": 95,
      "outputs": [
        {
          "output_type": "execute_result",
          "data": {
            "text/plain": [
              "array([ 0.86457773, -2.17564279,  2.578601  ])"
            ]
          },
          "metadata": {},
          "execution_count": 95
        }
      ]
    },
    {
      "cell_type": "code",
      "source": [
        ""
      ],
      "metadata": {
        "id": "WMWEJKRu9eK1"
      },
      "execution_count": 95,
      "outputs": []
    },
    {
      "cell_type": "code",
      "source": [
        "sv_alphas=(np.abs(alpha)>0.01)"
      ],
      "metadata": {
        "id": "klGdiGRoA07Z"
      },
      "execution_count": 96,
      "outputs": []
    },
    {
      "cell_type": "code",
      "source": [
        "np.sum(sv_alphas)"
      ],
      "metadata": {
        "colab": {
          "base_uri": "https://localhost:8080/"
        },
        "id": "lOEaaO54nxSH",
        "outputId": "6593c365-7cae-4a26-b0fd-7a80cafac3ec"
      },
      "execution_count": 97,
      "outputs": [
        {
          "output_type": "execute_result",
          "data": {
            "text/plain": [
              "3"
            ]
          },
          "metadata": {},
          "execution_count": 97
        }
      ]
    },
    {
      "cell_type": "code",
      "source": [
        "plt.scatter(X[:,0],X[:,1],color='blue')\n",
        "plt.scatter(X[sv_alphas.reshape(-1)==True,0],X[sv_alphas.reshape(-1)==True,1],color='red')"
      ],
      "metadata": {
        "id": "SOASAaioJkKD",
        "colab": {
          "base_uri": "https://localhost:8080/",
          "height": 282
        },
        "outputId": "e88d12f5-9ced-42a5-c07f-54a6dfc6fef8"
      },
      "execution_count": 98,
      "outputs": [
        {
          "output_type": "execute_result",
          "data": {
            "text/plain": [
              "<matplotlib.collections.PathCollection at 0x7fefb1837b10>"
            ]
          },
          "metadata": {},
          "execution_count": 98
        },
        {
          "output_type": "display_data",
          "data": {
            "text/plain": [
              "<Figure size 432x288 with 1 Axes>"
            ],
            "image/png": "[encoded data removed]"
          },
          "metadata": {
            "needs_background": "light"
          }
        }
      ]
    },
    {
      "cell_type": "code",
      "source": [
        ""
      ],
      "metadata": {
        "id": "Jt4IOAUAnqmi"
      },
      "execution_count": null,
      "outputs": []
    }
  ]
}