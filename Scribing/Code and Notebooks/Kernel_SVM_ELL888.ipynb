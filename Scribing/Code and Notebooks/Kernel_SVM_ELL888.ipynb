{
  "nbformat": 4,
  "nbformat_minor": 0,
  "metadata": {
    "colab": {
      "name": "Kernel SVM ELL888.ipynb",
      "provenance": [],
      "collapsed_sections": []
    },
    "kernelspec": {
      "name": "python3",
      "display_name": "Python 3"
    },
    "language_info": {
      "name": "python"
    }
  },
  "cells": [
    {
      "cell_type": "code",
      "execution_count": 39,
      "metadata": {
        "id": "yN7y5r3VfIsS"
      },
      "outputs": [],
      "source": [
        "import numpy as np\n",
        "import pandas as pd\n",
        "from sklearn.metrics import accuracy_score\n",
        "import matplotlib.pyplot as plt\n",
        "import random\n",
        "import sys\n",
        "import math\n",
        "from sklearn.preprocessing import StandardScaler\n",
        "from numpy.linalg import eig\n",
        "import sys\n",
        "from random import seed\n",
        "import pandas as pd\n",
        "import cvxpy as cp\n",
        "import random\n",
        "import numpy.linalg as la\n",
        "from sklearn.model_selection import train_test_split\n",
        "np.random.seed(1)\n",
        "seed(1)\n",
        "from sklearn.metrics import accuracy_score\n",
        "import torch\n",
        "import torch.nn as nn\n",
        "import torch.nn.functional as F\n",
        "from torch.optim import SGD\n",
        "import matplotlib.pyplot as plt\n",
        "from sklearn.decomposition import PCA\n",
        "from sklearn.svm import SVC\n",
        "from sklearn.model_selection import KFold\n",
        "import torchvision.datasets as datasets\n",
        "from torchvision import transforms\n",
        "from torch.utils.data import TensorDataset\n",
        "from torch.utils.data import DataLoader"
      ]
    },
    {
      "cell_type": "code",
      "source": [
        "d = 2   \n",
        "m = 10\n",
        "n = 10  \n",
        "\n",
        "x_center = [1,1]  \n",
        "y_center = [3,1]\n",
        "np.random.seed(8)  \n",
        "\n",
        "orientation_x = np.random.rand(2,2)\n",
        "orientation_y = np.random.rand(2,2)\n",
        "\n",
        "rx = np.clip(np.random.randn(m,d),-2,2)\n",
        "ry = np.clip(np.random.randn(n,d),-2,2)\n",
        "x = x_center + np.dot(rx,orientation_x)\n",
        "y = y_center + np.dot(ry,orientation_y)\n",
        "\n",
        "plt.scatter(x[:,0],x[:,1],color='blue')\n",
        "plt.scatter(y[:,0],y[:,1],color='red')\n"
      ],
      "metadata": {
        "colab": {
          "base_uri": "https://localhost:8080/",
          "height": 286
        },
        "id": "UVTAFAQci8hQ",
        "outputId": "5819943c-bb58-446d-8537-24ee04dfb688"
      },
      "execution_count": 19,
      "outputs": [
        {
          "output_type": "execute_result",
          "data": {
            "text/plain": [
              "<matplotlib.collections.PathCollection at 0x7f1523e966d0>"
            ]
          },
          "metadata": {},
          "execution_count": 19
        },
        {
          "output_type": "display_data",
          "data": {
            "text/plain": [
              "<Figure size 432x288 with 1 Axes>"
            ],
            "image/png": "[encoded data removed]"
          },
          "metadata": {
            "needs_background": "light"
          }
        }
      ]
    },
    {
      "cell_type": "code",
      "source": [
        "from sklearn.datasets import make_circles"
      ],
      "metadata": {
        "id": "oy_ejdKdD7d2"
      },
      "execution_count": 20,
      "outputs": []
    },
    {
      "cell_type": "code",
      "source": [
        "#run this for linear separable dataset\n",
        "X=np.append(x,y,axis=0)\n",
        "Y=np.append(np.ones(n),np.ones(m)*-1,0)"
      ],
      "metadata": {
        "id": "N6quyrODjyVa"
      },
      "execution_count": 399,
      "outputs": []
    },
    {
      "cell_type": "code",
      "source": [
        "#run this for non linear dataset\n",
        "X, Y = make_circles(n_samples = 50, noise = 0.02)\n",
        "plt.scatter(X[:, 0], X[:, 1], c = Y, marker = '.')\n",
        "plt.show()"
      ],
      "metadata": {
        "colab": {
          "base_uri": "https://localhost:8080/",
          "height": 265
        },
        "id": "0tICb9A9EEVB",
        "outputId": "d06fd57d-9eed-44a9-917a-f4abb15485ab"
      },
      "execution_count": 412,
      "outputs": [
        {
          "output_type": "display_data",
          "data": {
            "text/plain": [
              "<Figure size 432x288 with 1 Axes>"
            ],
            "image/png": "[encoded data removed]"
          },
          "metadata": {
            "needs_background": "light"
          }
        }
      ]
    },
    {
      "cell_type": "code",
      "source": [
        ""
      ],
      "metadata": {
        "id": "klhjvGDIEcfy"
      },
      "execution_count": 412,
      "outputs": []
    },
    {
      "cell_type": "code",
      "source": [
        ""
      ],
      "metadata": {
        "id": "Kb7ExOpZEWLd"
      },
      "execution_count": 412,
      "outputs": []
    },
    {
      "cell_type": "code",
      "source": [
        "M=X.shape[0]\n",
        "d=X.shape[1]"
      ],
      "metadata": {
        "id": "g20lqSTgkrn4"
      },
      "execution_count": 413,
      "outputs": []
    },
    {
      "cell_type": "code",
      "source": [
        "Y.shape"
      ],
      "metadata": {
        "colab": {
          "base_uri": "https://localhost:8080/"
        },
        "id": "XYeYilbLkso7",
        "outputId": "010f2dc9-fe12-4945-a679-53402e1b649a"
      },
      "execution_count": 414,
      "outputs": [
        {
          "output_type": "execute_result",
          "data": {
            "text/plain": [
              "(50,)"
            ]
          },
          "metadata": {},
          "execution_count": 414
        }
      ]
    },
    {
      "cell_type": "code",
      "source": [
        "kernel=\"rbf\""
      ],
      "metadata": {
        "id": "A0IeaX4bK22K"
      },
      "execution_count": 415,
      "outputs": []
    },
    {
      "cell_type": "code",
      "source": [
        "def gaussian(x,y,sigma=1):\n",
        "  exponent = -np.sqrt(la.norm(x-y) ** 2 / (2 * sigma ** 2))\n",
        "  return np.exp(exponent)\n",
        "def polynomial(x,y,offset=5):\n",
        "  d=x.shape[0]\n",
        "  return (offset + np.dot(x, y)) ** d\n",
        "def rbf(x,y,gamma=1):\n",
        "  exponent = gamma*np.linalg.norm(x-y)**2\n",
        "  return np.exp(-exponent)"
      ],
      "metadata": {
        "id": "X11rbNiVlGrA"
      },
      "execution_count": 416,
      "outputs": []
    },
    {
      "cell_type": "code",
      "source": [
        "def KernelMatrix(X,kernel=\"gaussian\"):\n",
        "  M=X.shape[0]\n",
        "  K=np.zeros((M,M))\n",
        "  for i in range(M):\n",
        "    for j in range(M):\n",
        "      if kernel==\"gaussian\":\n",
        "        K[i][j]=gaussian(X[i],X[j],sigma=1)\n",
        "      elif kernel==\"rbf\":\n",
        "        K[i][j]=rbf(X[i],X[j])\n",
        "      else:\n",
        "        K[i][j]=polynomial(X[i],X[j])\n",
        "  return K       "
      ],
      "metadata": {
        "id": "fc94RKzVlGno"
      },
      "execution_count": 417,
      "outputs": []
    },
    {
      "cell_type": "code",
      "source": [
        "#dual solver for SVM with Kernel and no kernel\n",
        "#pass kernel=True to use Kernel\n",
        "def SVM_OPT_DUAL(X,Y,C=100000,kernel=False):\n",
        "  M=X.shape[0]\n",
        "  d=X.shape[1]\n",
        "  alpha=cp.Variable((M,1))\n",
        "  if kernel:\n",
        "    K=KernelMatrix(X,kernel)\n",
        "  else:\n",
        "    K=np.dot(X,X.T)\n",
        "  Yij=np.dot(Y.reshape(1,-1).T,Y.reshape(1,-1))\n",
        "  #assert np.all(np.linalg.eigvals(K) > 0)\n",
        "  Q=np.multiply(K,Yij)\n",
        "  #assert np.all(np.linalg.eigvals(Q) > 0)\n",
        "  obj=cp.Minimize(1/2* cp.quad_form(alpha,Q)-cp.sum(alpha))\n",
        "  constraints=[]\n",
        "  constraints+=[cp.sum(cp.multiply(alpha,Y.reshape(-1,1)))==0]\n",
        "  for i in range(M):\n",
        "    constraints+=[alpha[i]>=0]\n",
        "    constraints+=[alpha[i]<=C]\n",
        "  problem = cp.Problem(obj,constraints)\n",
        "  problem.solve()\n",
        "  return alpha.value"
      ],
      "metadata": {
        "id": "DYqid7ncktQ1"
      },
      "execution_count": 418,
      "outputs": []
    },
    {
      "cell_type": "code",
      "source": [
        "alpha=SVM_OPT_DUAL(X,Y,kernel=True)"
      ],
      "metadata": {
        "id": "PNEx9dfqtdRc"
      },
      "execution_count": 428,
      "outputs": []
    },
    {
      "cell_type": "code",
      "source": [
        "alpha"
      ],
      "metadata": {
        "colab": {
          "base_uri": "https://localhost:8080/"
        },
        "id": "WxkQSavAy1OQ",
        "outputId": "94ab4dfa-e05c-4ac1-d477-7de006e0380a"
      },
      "execution_count": 429,
      "outputs": [
        {
          "output_type": "execute_result",
          "data": {
            "text/plain": [
              "array([[ 1.62332212e-07],\n",
              "       [ 1.00000756e+05],\n",
              "       [-5.01507847e-09],\n",
              "       [-6.52972243e-07],\n",
              "       [-7.08381564e-08],\n",
              "       [ 1.00000756e+05],\n",
              "       [ 1.00000756e+05],\n",
              "       [-4.68995491e-08],\n",
              "       [ 4.08418634e-07],\n",
              "       [ 1.00000756e+05],\n",
              "       [-2.11221736e-07],\n",
              "       [ 1.00000756e+05],\n",
              "       [ 1.00000756e+05],\n",
              "       [ 2.87202105e-07],\n",
              "       [ 2.05603906e-07],\n",
              "       [-5.33575009e-07],\n",
              "       [-5.16155698e-07],\n",
              "       [ 2.65608388e-08],\n",
              "       [-4.15778419e-07],\n",
              "       [ 1.00000756e+05],\n",
              "       [ 1.15421677e-07],\n",
              "       [ 4.08476519e-07],\n",
              "       [ 1.00000756e+05],\n",
              "       [ 1.00000756e+05],\n",
              "       [-3.99453010e-08],\n",
              "       [-3.36117059e-07],\n",
              "       [ 3.12789985e-07],\n",
              "       [ 1.00000756e+05],\n",
              "       [ 3.21181977e-07],\n",
              "       [ 1.00000756e+05],\n",
              "       [ 1.17773035e-07],\n",
              "       [ 1.00000756e+05],\n",
              "       [ 1.81646588e-07],\n",
              "       [ 1.00000756e+05],\n",
              "       [-7.56146880e-08],\n",
              "       [-4.64763257e-07],\n",
              "       [ 1.00000756e+05],\n",
              "       [ 1.00000756e+05],\n",
              "       [ 1.00000756e+05],\n",
              "       [ 1.00000756e+05],\n",
              "       [ 2.85025857e-07],\n",
              "       [ 1.00000756e+05],\n",
              "       [ 1.00000756e+05],\n",
              "       [ 1.00000756e+05],\n",
              "       [ 1.00000756e+05],\n",
              "       [ 1.00000756e+05],\n",
              "       [ 1.00000756e+05],\n",
              "       [ 1.00000756e+05],\n",
              "       [ 1.00000756e+05],\n",
              "       [ 5.02766882e-07]])"
            ]
          },
          "metadata": {},
          "execution_count": 429
        }
      ]
    },
    {
      "cell_type": "code",
      "source": [
        ""
      ],
      "metadata": {
        "id": "OTwQW01d_Oaz"
      },
      "execution_count": 429,
      "outputs": []
    },
    {
      "cell_type": "code",
      "source": [
        "def findbKernel(X,Y,alpha,kernel=\"gaussian\"):\n",
        "  M=X.shape[0]\n",
        "  b=0\n",
        "  idx=np.argmax(alpha)\n",
        "  x=X[idx]\n",
        "  sum=0\n",
        "  K=np.zeros(M)\n",
        "  for i in range(M):\n",
        "    if kernel==\"gaussian\":\n",
        "      K[i]=gaussian(x,X[i],sigma=1)\n",
        "    else:\n",
        "      K[i]=polynomial(x,X[i])\n",
        "    sum+=alpha[i]*Y[i]*K[i]\n",
        "  b=Y[idx]-sum\n",
        "  print(K)\n",
        "  return b"
      ],
      "metadata": {
        "id": "IKJQAnGKD77n"
      },
      "execution_count": 430,
      "outputs": []
    },
    {
      "cell_type": "code",
      "source": [
        "b=findbKernel(X,Y,alpha,kernel)"
      ],
      "metadata": {
        "colab": {
          "base_uri": "https://localhost:8080/"
        },
        "id": "ZczE2ML7LWiw",
        "outputId": "bfb923be-73e9-4048-9ac3-edc95dfa0570"
      },
      "execution_count": 431,
      "outputs": [
        {
          "output_type": "stream",
          "name": "stdout",
          "text": [
            "[33.75867213 36.59918174 32.82804766 27.53910335 25.57159731 16.22798437\n",
            " 16.25892466 18.06504569 19.09365225 15.93512511 25.69590482 26.00419196\n",
            " 35.93465438 31.35394151 32.5080536  34.14739997 17.3274496  30.14087983\n",
            " 19.97743281 18.72227598 21.86939448 23.4538824  17.8363163  34.92157471\n",
            " 18.90872735 33.75157501 18.18481667 28.16952    20.3441383  28.116444\n",
            " 17.69711156 23.4522631  29.57800981 20.94900791 21.30061023 23.62144554\n",
            " 30.76305554 19.11790143 30.53544881 22.82250978 27.76456905 20.47537643\n",
            " 35.7001291  16.0085587  17.11380077 32.73852973 33.23404874 25.06297194\n",
            " 34.82496595 31.09633097]\n"
          ]
        }
      ]
    },
    {
      "cell_type": "code",
      "source": [
        "b"
      ],
      "metadata": {
        "colab": {
          "base_uri": "https://localhost:8080/"
        },
        "id": "SwP5nM8eLWvh",
        "outputId": "a3903fd4-4a83-4d26-ed63-800409e57daa"
      },
      "execution_count": 432,
      "outputs": [
        {
          "output_type": "execute_result",
          "data": {
            "text/plain": [
              "array([1.2928214e-06])"
            ]
          },
          "metadata": {},
          "execution_count": 432
        }
      ]
    },
    {
      "cell_type": "code",
      "source": [
        ""
      ],
      "metadata": {
        "id": "WMWEJKRu9eK1"
      },
      "execution_count": 432,
      "outputs": []
    },
    {
      "cell_type": "code",
      "source": [
        ""
      ],
      "metadata": {
        "id": "klGdiGRoA07Z"
      },
      "execution_count": 432,
      "outputs": []
    },
    {
      "cell_type": "code",
      "source": [
        "def predictWithKernel(Xtest,X,Y,b,alpha,kernel=\"gaussian\"):\n",
        "  m=Xtest.shape[0]\n",
        "  n=X.shape[0]\n",
        "  K=np.zeros((m,n))\n",
        "  Y_pred=np.zeros(m)\n",
        "  for i in range(m):\n",
        "    for j in range(n):\n",
        "      if kernel==\"gaussian\":\n",
        "        K[i][j]=gaussian(Xtest[i],X[j],sigma=1)\n",
        "      else:\n",
        "        K[i][j]=polynomial(Xtest[i],X[j])\n",
        "  for i in range(m):\n",
        "    sum=0\n",
        "    for j in range(n):\n",
        "      sum=sum+(K[i][j]*Y[j]*alpha[j])\n",
        "    Y_pred[i]=np.sign(sum+b)\n",
        "  return Y_pred"
      ],
      "metadata": {
        "id": "QeXw-AT5A1C6"
      },
      "execution_count": 433,
      "outputs": []
    },
    {
      "cell_type": "code",
      "source": [
        "Ypred_kernel=predictWithKernel(X,X,Y,b,alpha,kernel)"
      ],
      "metadata": {
        "id": "AM7X-GNlFsiY"
      },
      "execution_count": 434,
      "outputs": []
    },
    {
      "cell_type": "code",
      "source": [
        "accuracy_score(Y,Ypred_kernel)"
      ],
      "metadata": {
        "colab": {
          "base_uri": "https://localhost:8080/"
        },
        "id": "SGAhDfLkE2d3",
        "outputId": "a636aae3-d599-4bdc-f4f6-a8def715a0bc"
      },
      "execution_count": 435,
      "outputs": [
        {
          "output_type": "execute_result",
          "data": {
            "text/plain": [
              "0.52"
            ]
          },
          "metadata": {},
          "execution_count": 435
        }
      ]
    },
    {
      "cell_type": "code",
      "source": [
        ""
      ],
      "metadata": {
        "id": "5_ZK01wpFFvt"
      },
      "execution_count": 435,
      "outputs": []
    },
    {
      "cell_type": "code",
      "source": [
        "from sklearn.svm import SVC\n",
        "clf = SVC(C=1.0, kernel='linear')\n",
        "classifier = clf.fit(X,Y)\n",
        "classifier.score(X,Y)"
      ],
      "metadata": {
        "colab": {
          "base_uri": "https://localhost:8080/"
        },
        "id": "zhdLxhCTF2gM",
        "outputId": "a12df2bf-c657-4713-bcd2-04967c485bf4"
      },
      "execution_count": 436,
      "outputs": [
        {
          "output_type": "execute_result",
          "data": {
            "text/plain": [
              "0.5"
            ]
          },
          "metadata": {},
          "execution_count": 436
        }
      ]
    },
    {
      "cell_type": "code",
      "source": [
        ""
      ],
      "metadata": {
        "id": "85RikOugF2iV"
      },
      "execution_count": 427,
      "outputs": []
    },
    {
      "cell_type": "code",
      "source": [
        ""
      ],
      "metadata": {
        "id": "CDQsScZKF2kP"
      },
      "execution_count": null,
      "outputs": []
    },
    {
      "cell_type": "code",
      "source": [
        ""
      ],
      "metadata": {
        "id": "DaS4mXnPF2ns"
      },
      "execution_count": null,
      "outputs": []
    }
  ]
}