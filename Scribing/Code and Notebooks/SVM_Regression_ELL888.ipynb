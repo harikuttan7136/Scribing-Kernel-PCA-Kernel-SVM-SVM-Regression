{
  "nbformat": 4,
  "nbformat_minor": 0,
  "metadata": {
    "colab": {
      "name": "SVM Regression ELL888.ipynb",
      "provenance": [],
      "collapsed_sections": []
    },
    "kernelspec": {
      "name": "python3",
      "display_name": "Python 3"
    },
    "language_info": {
      "name": "python"
    }
  },
  "cells": [
    {
      "cell_type": "code",
      "source": [
        "import numpy as np\n",
        "import pandas as pd\n",
        "from sklearn.metrics import accuracy_score\n",
        "import matplotlib.pyplot as plt\n",
        "import random\n",
        "import sys\n",
        "import math\n",
        "from sklearn.preprocessing import StandardScaler\n",
        "from numpy.linalg import eig\n",
        "import sys\n",
        "from random import seed\n",
        "import pandas as pd\n",
        "import cvxpy as cp\n",
        "import random\n",
        "import numpy.linalg as la\n",
        "np.random.seed(1)\n",
        "seed(1)\n",
        "from sklearn.metrics import r2_score\n",
        "import torch\n",
        "import torch.nn as nn\n",
        "import torch.nn.functional as F\n",
        "from torch.optim import SGD\n",
        "import matplotlib.pyplot as plt\n",
        "from sklearn.decomposition import PCA\n",
        "from sklearn.svm import SVC\n",
        "from sklearn.model_selection import KFold\n",
        "import torchvision.datasets as datasets\n",
        "from torchvision import transforms\n",
        "from torch.utils.data import TensorDataset\n",
        "from torch.utils.data import DataLoader"
      ],
      "metadata": {
        "id": "FuTkf8AkHdbr"
      },
      "execution_count": 39,
      "outputs": []
    },
    {
      "cell_type": "code",
      "source": [
        "#creating a random dataset with the equation of a line\n",
        "def generate_data_straightline(dim_x=1,start=-10,end=10,isNoise=True,isConstant=True,n = 10):\n",
        "    print(\"GENERATING DATA\")\n",
        "    X = np.random.uniform(start,end,(n, dim_x))\n",
        "    W = np.random.randint(1,10,(dim_x, ))\n",
        "    noise = np.random.uniform(1, 10, n)\n",
        "    if(isNoise):\n",
        "      noise = np.random.uniform(1, 20, (n, dim_x))\n",
        "      X=X+noise\n",
        "    b=0\n",
        "    if(isConstant):\n",
        "      b=np.random.randint(1,500)\n",
        "    y=np.dot(X,W)\n",
        "    print(\"X = \", X.shape, \" y = \", y.shape)\n",
        "    print(\"Equation of line is \")\n",
        "    print(W)\n",
        "    print(\"constant is \"+str(b))\n",
        "    return X, y"
      ],
      "metadata": {
        "id": "9OwXnjfnHdef"
      },
      "execution_count": 115,
      "outputs": []
    },
    {
      "cell_type": "code",
      "source": [
        "X,Y=generate_data_straightline(dim_x=2,isNoise=True,isConstant=False,n=20)"
      ],
      "metadata": {
        "colab": {
          "base_uri": "https://localhost:8080/"
        },
        "id": "r5uG-rRbHdgY",
        "outputId": "18ebd61d-001d-45b8-9291-402f59eedfbf"
      },
      "execution_count": 116,
      "outputs": [
        {
          "output_type": "stream",
          "name": "stdout",
          "text": [
            "GENERATING DATA\n",
            "X =  (20, 2)  y =  (20,)\n",
            "Equation of line is \n",
            "[8 2]\n",
            "constant is 0\n"
          ]
        }
      ]
    },
    {
      "cell_type": "code",
      "source": [
        "  X_mn_pca=X\n",
        "  Y_SVM=Y\n",
        "  pca = PCA(n_components=1)\n",
        "  X_mn_pca = pca.fit_transform(X_mn_pca)\n",
        "  plt.scatter(X_mn_pca, Y_SVM, marker='o', facecolors='r', edgecolors='r')"
      ],
      "metadata": {
        "colab": {
          "base_uri": "https://localhost:8080/",
          "height": 282
        },
        "id": "iCaZvmhEHdjw",
        "outputId": "ebee6ca2-678e-4128-99fd-a4ce5c5b641e"
      },
      "execution_count": 117,
      "outputs": [
        {
          "output_type": "execute_result",
          "data": {
            "text/plain": [
              "<matplotlib.collections.PathCollection at 0x7fd9e8e875d0>"
            ]
          },
          "metadata": {},
          "execution_count": 117
        },
        {
          "output_type": "display_data",
          "data": {
            "text/plain": [
              "<Figure size 432x288 with 1 Axes>"
            ],
            "image/png": "[encoded data removed]"
          },
          "metadata": {
            "needs_background": "light"
          }
        }
      ]
    },
    {
      "cell_type": "code",
      "source": [
        ""
      ],
      "metadata": {
        "id": "Swhk1QPOOHbs"
      },
      "execution_count": 117,
      "outputs": []
    },
    {
      "cell_type": "code",
      "source": [
        "#SVM regression optimisation without kernel\n",
        "#primal regression problem\n",
        "def inner_prod_cp(w,x):\n",
        "    return cp.sum(cp.multiply(w,x))\n",
        "def SVM_REG_OPT(X,Y, restrictions_on_weight=False,C=10000,eph=0.1):\n",
        "  M=X.shape[0]\n",
        "  d=X.shape[1]\n",
        "  w = cp.Variable(d)\n",
        "  b=cp.Variable(1)\n",
        "  qi_pos = cp.Variable(M)\n",
        "  qi_neg = cp.Variable(M)\n",
        "  obj=cp.Minimize((1/2)*cp.norm2(w) + cp.sum(qi_pos)*C + C*cp.sum(qi_neg))\n",
        "  constraints=[]\n",
        "  for i in range(M):\n",
        "    constraints+=[inner_prod_cp(w,X[i])+b+qi_pos[i]>=Y[i]-eph,qi_pos[i]>=0]\n",
        "    constraints+=[inner_prod_cp(w,X[i])+b-qi_neg[i]<=Y[i]+eph,qi_neg[i]>=0]\n",
        "  problem = cp.Problem(obj,constraints)\n",
        "  problem.solve()\n",
        "  return w.value,b.value"
      ],
      "metadata": {
        "id": "QCv6kiJEH47f"
      },
      "execution_count": 118,
      "outputs": []
    },
    {
      "cell_type": "code",
      "source": [
        "def gaussian(x,y,sigma=1):\n",
        "  exponent = -np.sqrt(la.norm(x-y) ** 2 / (2 * sigma ** 2))\n",
        "  return np.exp(exponent)\n",
        "def polynomial(x,y,offset=1):\n",
        "  d=x.shape[1]\n",
        "  return (offset + np.dot(x, y)) ** d"
      ],
      "metadata": {
        "id": "JKY0oKL1R_eF"
      },
      "execution_count": 119,
      "outputs": []
    },
    {
      "cell_type": "code",
      "source": [
        "#calculating the kernel matrix\n",
        "def KernelMatrix(X,kernel=\"gaussian\"):\n",
        "  M=X.shape[0]\n",
        "  K=np.zeros((M,M))\n",
        "  for i in range(M):\n",
        "    for j in range(M):\n",
        "      if kernel==\"gaussian\":\n",
        "        K[i][j]=gaussian(X[i],X[j],sigma=1)\n",
        "      else:\n",
        "        K[i][j]=polynomial(X[i],X[j])\n",
        "\n",
        "  return K       "
      ],
      "metadata": {
        "id": "0ZxWh8sfSAa0"
      },
      "execution_count": 120,
      "outputs": []
    },
    {
      "cell_type": "code",
      "source": [
        "#kernel regression\n",
        "#Dual of the same optimisation with kernel\n",
        "def SVM_REG_DUAL(X,Y,C=10000,eph=0.1):\n",
        "  M=X.shape[0]\n",
        "  d=X.shape[1]\n",
        "  K=KernelMatrix(X)\n",
        "  qi_pos = cp.Variable(M)\n",
        "  qi_neg = cp.Variable(M)\n",
        "  obj=cp.Minimize((1/2)*cp.quad_form(qi_pos-qi_neg,K)+eph*(cp.sum(qi_pos+qi_neg))-cp.sum(cp.multiply(Y,qi_pos-qi_neg)))\n",
        "  constraints=[]\n",
        "  for i in range(M):\n",
        "    constraints+=[qi_pos[i]>=0]\n",
        "    constraints+=[qi_neg[i]>=0]\n",
        "    constraints+=[qi_pos[i]<=C,qi_neg[i]<=C]\n",
        "  constraints+=[cp.sum(qi_pos-qi_neg)==0]\n",
        "  problem = cp.Problem(obj,constraints)\n",
        "  problem.solve()\n",
        "  return qi_pos.value,qi_neg.value"
      ],
      "metadata": {
        "id": "f8HhwS1eOckx"
      },
      "execution_count": 121,
      "outputs": []
    },
    {
      "cell_type": "code",
      "source": [
        "w,b=SVM_REG_OPT(X,Y)"
      ],
      "metadata": {
        "id": "o8_rpqafKRgd"
      },
      "execution_count": 122,
      "outputs": []
    },
    {
      "cell_type": "code",
      "source": [
        "w"
      ],
      "metadata": {
        "colab": {
          "base_uri": "https://localhost:8080/"
        },
        "id": "OsO4tZY0H5AI",
        "outputId": "62dd0b02-c360-4d77-8dc9-cc98a0b001a6"
      },
      "execution_count": 123,
      "outputs": [
        {
          "output_type": "execute_result",
          "data": {
            "text/plain": [
              "array([7.99214953, 1.9980206 ])"
            ]
          },
          "metadata": {},
          "execution_count": 123
        }
      ]
    },
    {
      "cell_type": "code",
      "source": [
        "b"
      ],
      "metadata": {
        "colab": {
          "base_uri": "https://localhost:8080/"
        },
        "id": "DggxxoKJH5Cx",
        "outputId": "1a997520-f5e1-4035-9364-b3f61fee3032"
      },
      "execution_count": 124,
      "outputs": [
        {
          "output_type": "execute_result",
          "data": {
            "text/plain": [
              "array([0.13535298])"
            ]
          },
          "metadata": {},
          "execution_count": 124
        }
      ]
    },
    {
      "cell_type": "code",
      "source": [
        "Ypred_linear=np.dot(X,w)+b"
      ],
      "metadata": {
        "id": "sk7lFoCINtbA"
      },
      "execution_count": 125,
      "outputs": []
    },
    {
      "cell_type": "code",
      "source": [
        "r2_score(Ypred_linear,Y)"
      ],
      "metadata": {
        "colab": {
          "base_uri": "https://localhost:8080/"
        },
        "id": "uiPQfGMnN6ZS",
        "outputId": "057ea497-11c3-4fac-85f1-b6cbce26e767"
      },
      "execution_count": 126,
      "outputs": [
        {
          "output_type": "execute_result",
          "data": {
            "text/plain": [
              "0.999998888034201"
            ]
          },
          "metadata": {},
          "execution_count": 126
        }
      ]
    },
    {
      "cell_type": "code",
      "source": [
        "qi_pos,qi_neg=SVM_REG_DUAL(X,Y)"
      ],
      "metadata": {
        "id": "jWtPu0ciH5GN"
      },
      "execution_count": 127,
      "outputs": []
    },
    {
      "cell_type": "code",
      "source": [
        "q=qi_pos-qi_neg"
      ],
      "metadata": {
        "id": "aJvLepc5KcI-"
      },
      "execution_count": 128,
      "outputs": []
    },
    {
      "cell_type": "code",
      "source": [
        "qi_pos"
      ],
      "metadata": {
        "colab": {
          "base_uri": "https://localhost:8080/"
        },
        "id": "5RMv6Mk4VR9D",
        "outputId": "1912562e-6758-480a-83f3-ea8539d9196b"
      },
      "execution_count": 129,
      "outputs": [
        {
          "output_type": "execute_result",
          "data": {
            "text/plain": [
              "array([ 4.42648123e-18,  1.14830666e+02,  1.46476430e-17,  4.23615747e+01,\n",
              "        3.13370261e+01,  4.78632679e-18,  3.12099054e-18,  1.07276354e+01,\n",
              "        1.50671719e-17,  1.48285095e-18, -2.61858552e-19,  1.46669665e-17,\n",
              "        9.55150452e+00,  1.87731306e-17,  1.23022762e+02,  3.23204482e+01,\n",
              "        4.39544219e-18,  2.02328007e+01,  3.15420036e+01,  8.29475336e-19])"
            ]
          },
          "metadata": {},
          "execution_count": 129
        }
      ]
    },
    {
      "cell_type": "code",
      "source": [
        "qi_neg"
      ],
      "metadata": {
        "colab": {
          "base_uri": "https://localhost:8080/"
        },
        "id": "QEWshpfPVTuT",
        "outputId": "64db7c73-8d44-4d09-a603-0e9e27ecc881"
      },
      "execution_count": 130,
      "outputs": [
        {
          "output_type": "execute_result",
          "data": {
            "text/plain": [
              "array([2.84658043e+01, 2.57779802e-17, 7.25686114e+01, 9.32238792e-18,\n",
              "       6.78037147e-18, 4.22718251e+01, 1.30862288e+01, 3.57310445e-19,\n",
              "       7.38213980e+01, 2.83083189e+00, 2.78347777e+00, 6.80730479e+01,\n",
              "       1.86630161e-18, 8.02644812e+01, 2.76564348e-17, 4.23122208e-18,\n",
              "       2.12248821e+01, 2.82154713e-18, 3.12122986e-18, 1.05358331e+01])"
            ]
          },
          "metadata": {},
          "execution_count": 130
        }
      ]
    },
    {
      "cell_type": "code",
      "source": [
        "q"
      ],
      "metadata": {
        "colab": {
          "base_uri": "https://localhost:8080/"
        },
        "id": "WuIu6g-_KcLO",
        "outputId": "90a6daa5-b824-457b-85f1-1a8ae3dfb344"
      },
      "execution_count": 131,
      "outputs": [
        {
          "output_type": "execute_result",
          "data": {
            "text/plain": [
              "array([-28.46580431, 114.83066606, -72.56861139,  42.36157465,\n",
              "        31.33702606, -42.27182507, -13.08622881,  10.72763545,\n",
              "       -73.82139804,  -2.83083189,  -2.78347777, -68.07304791,\n",
              "         9.55150452, -80.26448121, 123.02276236,  32.32044819,\n",
              "       -21.22488207,  20.23280072,  31.54200357, -10.53583311])"
            ]
          },
          "metadata": {},
          "execution_count": 131
        }
      ]
    },
    {
      "cell_type": "code",
      "source": [
        "#finding the value of b using a support vector\n",
        "def findbKernel(X,Y,alpha,kernel=\"gaussian\"):\n",
        "  M=X.shape[0]\n",
        "  b=0\n",
        "  idx=np.argmax(alpha)\n",
        "  x=X[idx]\n",
        "  sum=0\n",
        "  K=np.zeros(M)\n",
        "  for i in range(M):\n",
        "    if kernel==\"gaussian\":\n",
        "      K[i]=gaussian(x,X[i],sigma=1)\n",
        "    else:\n",
        "      K[i]=polynomial(x,X[i])\n",
        "    sum+=alpha[i]*K[i]\n",
        "  b=Y[idx]-sum\n",
        "  return b"
      ],
      "metadata": {
        "id": "At2U9xovKcNN"
      },
      "execution_count": 132,
      "outputs": []
    },
    {
      "cell_type": "code",
      "source": [
        "b=findbKernel(X,Y,q)"
      ],
      "metadata": {
        "id": "DpGNoySoKcPj"
      },
      "execution_count": 133,
      "outputs": []
    },
    {
      "cell_type": "code",
      "source": [
        "b"
      ],
      "metadata": {
        "colab": {
          "base_uri": "https://localhost:8080/"
        },
        "id": "8MojMyuPKcTI",
        "outputId": "35dfe483-cf5e-49d1-a663-aa504bdf8b98"
      },
      "execution_count": 134,
      "outputs": [
        {
          "output_type": "execute_result",
          "data": {
            "text/plain": [
              "116.20980857882694"
            ]
          },
          "metadata": {},
          "execution_count": 134
        }
      ]
    },
    {
      "cell_type": "code",
      "source": [
        "#predicting the value of unknown samples\n",
        "def predictWithKernel(Xtest,X,Y,b,alpha,kernel=\"gaussian\"):\n",
        "  m=Xtest.shape[0]\n",
        "  n=X.shape[0]\n",
        "  K=np.zeros((m,n))\n",
        "  Y_pred=np.zeros(m)\n",
        "  for i in range(m):\n",
        "    for j in range(n):\n",
        "      if kernel==\"gaussian\":\n",
        "        K[i][j]=gaussian(Xtest[i],X[j],sigma=1)\n",
        "      else:\n",
        "        K[i][j]=polynomial(Xtest[i],X[j])\n",
        "  for i in range(m):\n",
        "    sum=0\n",
        "    for j in range(n):\n",
        "      sum=sum+(K[i][j]*alpha[j])\n",
        "    Y_pred[i]=sum+b\n",
        "  return Y_pred"
      ],
      "metadata": {
        "id": "Nwu-RGVrWo--"
      },
      "execution_count": 135,
      "outputs": []
    },
    {
      "cell_type": "code",
      "source": [
        "Y_pred=predictWithKernel(X,X,Y,b,q)"
      ],
      "metadata": {
        "id": "bUI0QpzIWpBj"
      },
      "execution_count": 136,
      "outputs": []
    },
    {
      "cell_type": "code",
      "source": [
        "Y_pred"
      ],
      "metadata": {
        "colab": {
          "base_uri": "https://localhost:8080/"
        },
        "id": "Ua4EEDVPWpFD",
        "outputId": "b2f3190c-fe12-4b95-8bc3-92411c38943c"
      },
      "execution_count": 137,
      "outputs": [
        {
          "output_type": "execute_result",
          "data": {
            "text/plain": [
              "array([ 79.75049133, 231.37796652,  36.15108029, 158.56963219,\n",
              "       147.53702252,  60.68544016, 102.41278527, 132.39091173,\n",
              "        36.69224143, 114.36741691, 109.45222354,  44.88084333,\n",
              "       125.71011952,  35.83736152, 239.58527514, 159.45316397,\n",
              "        92.12147151, 142.01118361, 160.18274119,  99.37415586])"
            ]
          },
          "metadata": {},
          "execution_count": 137
        }
      ]
    },
    {
      "cell_type": "code",
      "source": [
        "Y"
      ],
      "metadata": {
        "colab": {
          "base_uri": "https://localhost:8080/"
        },
        "id": "IDcUsDQkWyKa",
        "outputId": "aac91385-a038-4e7d-b371-f7126da0cc1d"
      },
      "execution_count": 138,
      "outputs": [
        {
          "output_type": "execute_result",
          "data": {
            "text/plain": [
              "array([ 79.55049133, 231.37796652,  35.95108029, 158.56963219,\n",
              "       147.53702252,  60.48544016, 102.21278527, 132.39091173,\n",
              "        36.49224143, 114.16741691, 109.25222354,  44.68084333,\n",
              "       125.71011952,  35.63736152, 239.58527514, 159.45316397,\n",
              "        91.92147151, 142.01118361, 160.18274119,  99.17415586])"
            ]
          },
          "metadata": {},
          "execution_count": 138
        }
      ]
    },
    {
      "cell_type": "code",
      "source": [
        "r2_score(Y_pred,Y)"
      ],
      "metadata": {
        "colab": {
          "base_uri": "https://localhost:8080/"
        },
        "id": "6c-I49f6BpfO",
        "outputId": "17e224f1-3308-4e6e-ae82-873447b6245f"
      },
      "execution_count": 139,
      "outputs": [
        {
          "output_type": "execute_result",
          "data": {
            "text/plain": [
              "0.9999933197143883"
            ]
          },
          "metadata": {},
          "execution_count": 139
        }
      ]
    },
    {
      "cell_type": "code",
      "source": [
        "from sklearn.svm import SVR\n",
        "clf = SVR(C=1.0, kernel='linear')\n",
        "classifier = clf.fit(X,Y)\n",
        "classifier.score(X,Y)"
      ],
      "metadata": {
        "colab": {
          "base_uri": "https://localhost:8080/"
        },
        "id": "hm4a85nNO7Fk",
        "outputId": "b2d693ab-c648-47de-c1cd-d0c1174e1364"
      },
      "execution_count": 140,
      "outputs": [
        {
          "output_type": "execute_result",
          "data": {
            "text/plain": [
              "0.9999988842572421"
            ]
          },
          "metadata": {},
          "execution_count": 140
        }
      ]
    },
    {
      "cell_type": "code",
      "source": [
        "\"\"\"Xtest = np.random.uniform(1,10,(10, 2))\n",
        "W=np.array([1,5])\n",
        "Ytest=np.dot(Xtest,W)\"\"\""
      ],
      "metadata": {
        "id": "Xn39y1yNWyNc"
      },
      "execution_count": 29,
      "outputs": []
    },
    {
      "cell_type": "code",
      "source": [
        "\"\"\"Y_pred_linear=np.dot(Xtest,w)\n",
        "Y_pred_kernel=predictWithKernel(Xtest,X,Y,b,q)\"\"\""
      ],
      "metadata": {
        "id": "lJEeQqYTWyQ3"
      },
      "execution_count": 30,
      "outputs": []
    },
    {
      "cell_type": "code",
      "execution_count": null,
      "metadata": {
        "id": "jZ797khE964s"
      },
      "outputs": [],
      "source": [
        "\"\"\"def inner_prod_cp(w,x):\n",
        "    return cp.sum(cp.multiply(w,x))\n",
        "def REG_OPT(X,Y,lembda, restrictions_on_weight=False):\n",
        "\n",
        "  d=X.shape[1:]  \n",
        "  #print(\"d\",np.array(d)[0])  \n",
        "  w = cp.Variable(d)\n",
        "  #obj=cp.Minimize((1/2)*cp.norm2(w) + cp.sum(qi)*C)\n",
        "  tot_sum = 0  \n",
        "  for i in range (d[0]):\n",
        "    tot_sum = tot_sum + cp.abs(Y[i] - inner_prod_cp(w,X[i]))\n",
        "  \n",
        "  obj=cp.Minimize(tot_sum + lembda*cp.norm1(w))  \n",
        "  #  \n",
        "  constraints=[]\n",
        "  #for i in range(M):\n",
        "  #  constraints+=[cp.multiply(Y[i],(inner_prod_cp(w,X[i])))+qi[i]>=1,qi[i]>=0]\n",
        "  max_X=np.max(X,axis=0)\n",
        "  min_X=np.min(X,axis=0)\n",
        "  if restrictions_on_weight:\n",
        "    for i in range(np.array(d)[0]):\n",
        "      constraints+=[w[i]<=max_X[i]]\n",
        "      constraints+=[w[i]>=min_X[i]]\n",
        "  problem = cp.Problem(obj)\n",
        "  problem.solve(solver=cp.GLPK)\n",
        "  #print(w.value)  \n",
        "  return w.value\"\"\""
      ]
    }
  ]
}